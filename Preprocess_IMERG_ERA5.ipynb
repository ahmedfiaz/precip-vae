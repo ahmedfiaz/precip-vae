{
 "cells": [
  {
   "cell_type": "code",
   "execution_count": null,
   "metadata": {},
   "outputs": [],
   "source": [
    "## hack for missing ESMFMKFILE\n",
    "import os\n",
    "os.environ['ESMFMKFILE']='/home/fiaz/anaconda3/envs/aos112/lib/esmf.mk'\n",
    "\n",
    "import xarray as xr\n",
    "from glob import glob\n",
    "import netCDF4\n",
    "import matplotlib.pyplot as plt\n",
    "import numpy as np\n",
    "import xesmf as xe\n",
    "import datetime as dt\n",
    "from dateutil.relativedelta import relativedelta\n",
    "from itertools import repeat\n",
    "%matplotlib inline"
   ]
  },
  {
   "cell_type": "code",
   "execution_count": null,
   "metadata": {},
   "outputs": [],
   "source": [
    "import sys\n",
    "module_path = os.path.abspath(os.path.join('../')) # or the path to your source code\n",
    "sys.path.insert(0, module_path)\n",
    "import thermodynamic_functions"
   ]
  },
  {
   "cell_type": "code",
   "execution_count": null,
   "metadata": {},
   "outputs": [],
   "source": [
    "from dask.distributed import Client,LocalCluster\n",
    "# client = Client(n_workers=10,)  # start distributed scheduler locally.  Launch dashboard\n",
    "cluster = LocalCluster(n_workers=10, threads_per_worker=2)\n",
    "client = Client(cluster, asynchronous=True)  # start distributed scheduler locally.  Launch dashboard\n",
    "client"
   ]
  },
  {
   "cell_type": "code",
   "execution_count": null,
   "metadata": {},
   "outputs": [],
   "source": [
    "import imerg_era5_preprocessing\n",
    "import importlib\n",
    "importlib.reload(imerg_era5_preprocessing)\n",
    "from imerg_era5_preprocessing import ProcessEra5,ProcessImerg"
   ]
  },
  {
   "cell_type": "code",
   "execution_count": null,
   "metadata": {},
   "outputs": [],
   "source": [
    "fils_era5=glob('/neelin2020/ERA-5_Tq_ps/hourly/*grib')\n",
    "fils_era5_idx=glob('/neelin2020/ERA-5_Tq_ps/hourly/*idx')\n",
    "fils_era5.sort()\n",
    "fils_era5=[fil for fil in fils_era5 if fil not in fils_era5_idx]"
   ]
  },
  {
   "cell_type": "code",
   "execution_count": null,
   "metadata": {},
   "outputs": [],
   "source": [
    "import warnings\n",
    "warnings.filterwarnings('ignore')"
   ]
  },
  {
   "cell_type": "code",
   "execution_count": null,
   "metadata": {},
   "outputs": [],
   "source": [
    "DIR_OUT='/neelin2020/ML_input/imerg-era5' ### full precip.\n",
    "DIR_IMERG='/neelin2020/IMERG_V06'"
   ]
  },
  {
   "cell_type": "markdown",
   "metadata": {},
   "source": [
    "Define functions"
   ]
  },
  {
   "cell_type": "code",
   "execution_count": null,
   "metadata": {},
   "outputs": [],
   "source": [
    "SAVE_REGION='OCN' ##LND\n",
    "FILTER_SURF_PRESS=800 ## filter points with surface pressure < 800 hPa"
   ]
  },
  {
   "cell_type": "code",
   "execution_count": null,
   "metadata": {},
   "outputs": [],
   "source": [
    "def process_era5_imerge_regridded_files(fils_era5):\n",
    "    for filx in fils_era5:\n",
    "        \n",
    "        print(filx)\n",
    "        ## Process imerg data ###\n",
    "        obj_imerg=ProcessImerg(filx,SAVE_REGION,DIR_OUT,DIR_IMERG,\n",
    "                                FILTER_SURF_PRESS)        \n",
    "        obj_imerg.check_imerge()\n",
    "        if obj_imerg.imerg_processing:\n",
    "            print('Processing IMERG')\n",
    "            obj_imerg.save_imerg()\n",
    "        else:\n",
    "            print('IMERG files exist')\n",
    "        \n",
    "        ## extract ERA5 datasets ###\n",
    "        print('Working on ERA5')\n",
    "        obj_era5=ProcessEra5(filx,SAVE_REGION,DIR_OUT,\n",
    "                              FILTER_SURF_PRESS) \n",
    "        obj_era5.check_era5_vars()\n",
    "        \n",
    "        if obj_era5.era5_processing:\n",
    "            print('ERA5 processing required')\n",
    "            obj_era5.extract_era5()\n",
    "            print('Computing ERA5 thermo variables')\n",
    "            obj_era5.compute_thermo()\n",
    "            print('Computing layer-averaged variables')\n",
    "            obj_era5.get_layer_averaged_thermo()\n",
    "            print('Saving ERA5 variables')\n",
    "            obj_era5.save_era5_thermo()\n",
    "        else:\n",
    "            print('ERA5 files exist')\n",
    "        \n",
    "        \n",
    "    return "
   ]
  },
  {
   "cell_type": "code",
   "execution_count": null,
   "metadata": {},
   "outputs": [],
   "source": [
    "obj=process_era5_imerge_regridded_files(fils_era5[0:20])"
   ]
  }
 ],
 "metadata": {
  "kernelspec": {
   "display_name": "analysis_env",
   "language": "python",
   "name": "analysis_env"
  },
  "language_info": {
   "codemirror_mode": {
    "name": "ipython",
    "version": 3
   },
   "file_extension": ".py",
   "mimetype": "text/x-python",
   "name": "python",
   "nbconvert_exporter": "python",
   "pygments_lexer": "ipython3",
   "version": "3.9.16"
  }
 },
 "nbformat": 4,
 "nbformat_minor": 2
}
