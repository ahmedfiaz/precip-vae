{
 "cells": [
  {
   "cell_type": "markdown",
   "metadata": {},
   "source": [
    "Can we capture the variability in both precip. and prob. of precip. with a single NN?"
   ]
  },
  {
   "cell_type": "code",
   "execution_count": 1,
   "metadata": {},
   "outputs": [],
   "source": [
    "import os\n",
    "import torch\n",
    "from torch import nn\n",
    "import torchvision\n",
    "import torchvision.transforms as transforms\n",
    "import torch.nn.functional as F\n",
    "from torch.utils.data.sampler import Sampler\n",
    "\n",
    "# PyTorch TensorBoard support\n",
    "from torch.utils.tensorboard import SummaryWriter\n",
    "from datetime import datetime\n",
    "from torch.distributions import Beta\n",
    "import wandb\n",
    "import random\n",
    "import torch.optim.lr_scheduler as lr_scheduler\n",
    "import numpy as np\n"
   ]
  },
  {
   "cell_type": "code",
   "execution_count": 2,
   "metadata": {},
   "outputs": [],
   "source": [
    "import numpy as np\n",
    "import matplotlib.pyplot as plt\n",
    "import itertools\n",
    "import matplotlib\n",
    "import datetime as dt\n",
    "import glob\n",
    "import bisect\n",
    "import zipfile\n",
    "import importlib\n",
    "\n"
   ]
  },
  {
   "cell_type": "code",
   "execution_count": 3,
   "metadata": {},
   "outputs": [],
   "source": [
    "import Data_loader\n",
    "importlib.reload(Data_loader)\n",
    "from Data_loader import Prc_norm, Thermo_norm, LoadTraining, Normalize, Custom_Sampler"
   ]
  },
  {
   "cell_type": "code",
   "execution_count": 4,
   "metadata": {},
   "outputs": [
    {
     "name": "stdout",
     "output_type": "stream",
     "text": [
      "Random seed set as 0\n"
     ]
    }
   ],
   "source": [
    "def set_seed(seed: int = 0) -> None:\n",
    "    np.random.seed(seed)\n",
    "    random.seed(seed)\n",
    "    torch.manual_seed(seed)\n",
    "    torch.cuda.manual_seed(seed)\n",
    "    # When running on the CuDNN backend, two further options must be set\n",
    "#     torch.backends.cudnn.deterministic = True\n",
    "#     torch.backends.cudnn.benchmark = False\n",
    "    # Set a fixed value for the hash seed\n",
    "    os.environ[\"PYTHONHASHSEED\"] = str(seed)\n",
    "    print(f\"Random seed set as {seed}\")\n",
    "\n",
    "set_seed()"
   ]
  },
  {
   "cell_type": "code",
   "execution_count": 5,
   "metadata": {},
   "outputs": [],
   "source": [
    "device = \"cuda\" if torch.cuda.is_available() else \"cpu\""
   ]
  },
  {
   "cell_type": "code",
   "execution_count": 6,
   "metadata": {},
   "outputs": [],
   "source": [
    "# importlib.reload(LoadTraining)\n",
    "IMERG_ERA5_PATH='/neelin2020/ML_input/imerg-era5/ocn/'"
   ]
  },
  {
   "cell_type": "markdown",
   "metadata": {},
   "source": [
    "Get precipitation normalizers"
   ]
  },
  {
   "cell_type": "code",
   "execution_count": 7,
   "metadata": {},
   "outputs": [],
   "source": [
    "PRC_PATH=IMERG_ERA5_PATH+'prc_ocn/prc_oceans_2015_01_01.npy'\n",
    "imerg_prc=Prc_norm(PRC_PATH)\n",
    "imerg_prc.compute_norm()"
   ]
  },
  {
   "cell_type": "code",
   "execution_count": 9,
   "metadata": {},
   "outputs": [],
   "source": [
    "HBL_PATH=IMERG_ERA5_PATH+'hbl_ocn/hbl_oceans_2015_01_01.npy'\n",
    "HLFT_PATH=IMERG_ERA5_PATH+'hlft_ocn/hlft_oceans_2015_01_01.npy'\n",
    "HSAT_LFT_PATH=IMERG_ERA5_PATH+'hsat_lft_ocn/hsat_lft_oceans_2015_01_01.npy'"
   ]
  },
  {
   "cell_type": "code",
   "execution_count": 10,
   "metadata": {},
   "outputs": [],
   "source": [
    "era5_thermo=Thermo_norm(HBL_PATH,HLFT_PATH,HSAT_LFT_PATH)\n",
    "era5_thermo.compute_norm()"
   ]
  },
  {
   "cell_type": "code",
   "execution_count": 13,
   "metadata": {},
   "outputs": [],
   "source": [
    "### Declare directories ###\n",
    "\n",
    "fils_hbl=glob.glob(IMERG_ERA5_PATH+'hbl_ocn/hbl_oceans_*npy')\n",
    "fils_hbl.sort()"
   ]
  },
  {
   "cell_type": "code",
   "execution_count": 14,
   "metadata": {},
   "outputs": [],
   "source": [
    "era5_hlft_dir=IMERG_ERA5_PATH+'hlft_ocn/'\n",
    "era5_hsat_lft_dir=IMERG_ERA5_PATH+'hsat_lft_ocn/'\n",
    "imerg_prc_dir=IMERG_ERA5_PATH+'prc_ocn/'"
   ]
  },
  {
   "cell_type": "code",
   "execution_count": 15,
   "metadata": {},
   "outputs": [],
   "source": [
    "prc_norm_dict={'prc_mean':0,\n",
    "               'prc_std':imerg_prc.precipitating_std}\n",
    "\n",
    "thermo_norm_dict={'instab_mean':era5_thermo.instab_mean,\n",
    "                 'instab_std':era5_thermo.instab_std,\n",
    "                 'subsat_mean':era5_thermo.subsat_mean,\n",
    "                 'subsat_std':era5_thermo.subsat_std}"
   ]
  },
  {
   "cell_type": "code",
   "execution_count": 38,
   "metadata": {},
   "outputs": [
    {
     "name": "stdout",
     "output_type": "stream",
     "text": [
      "hsat_lft_oceans_2015_01_01.npy  hsat_lft_oceans_2015_01_11.npy\r\n",
      "hsat_lft_oceans_2015_01_02.npy  hsat_lft_oceans_2015_01_12.npy\r\n",
      "hsat_lft_oceans_2015_01_03.npy  hsat_lft_oceans_2015_01_13.npy\r\n",
      "hsat_lft_oceans_2015_01_04.npy  hsat_lft_oceans_2015_01_14.npy\r\n",
      "hsat_lft_oceans_2015_01_05.npy  hsat_lft_oceans_2015_01_15.npy\r\n",
      "hsat_lft_oceans_2015_01_06.npy  hsat_lft_oceans_2015_01_16.npy\r\n",
      "hsat_lft_oceans_2015_01_07.npy  hsat_lft_oceans_2015_01_17.npy\r\n",
      "hsat_lft_oceans_2015_01_08.npy  hsat_lft_oceans_2015_01_18.npy\r\n",
      "hsat_lft_oceans_2015_01_09.npy  hsat_lft_oceans_2015_01_19.npy\r\n",
      "hsat_lft_oceans_2015_01_10.npy  hsat_lft_oceans_2015_01_20.npy\r\n"
     ]
    }
   ],
   "source": [
    "ls $era5_hsat_lft_dir"
   ]
  },
  {
   "cell_type": "code",
   "execution_count": 68,
   "metadata": {},
   "outputs": [],
   "source": [
    "BATCH_SIZE=256\n",
    "transformed_samples=LoadTraining(fils_hbl[:5], era5_hlft_dir, era5_hsat_lft_dir, imerg_prc_dir,\n",
    "                                 batch_size=BATCH_SIZE, \n",
    "                                 transform=Normalize(prc_norm_dict,thermo_norm_dict))\n",
    "\n",
    "custom_dataloader = torch.utils.data.DataLoader(transformed_samples, batch_size=None,\n",
    "                                                num_workers=1, \n",
    "                                                sampler=Custom_Sampler(len(transformed_samples),\n",
    "                                                                                      BATCH_SIZE,\n",
    "                                                                                      transformed_samples.array_sizes))"
   ]
  },
  {
   "cell_type": "code",
   "execution_count": null,
   "metadata": {},
   "outputs": [],
   "source": []
  },
  {
   "cell_type": "code",
   "execution_count": 69,
   "metadata": {},
   "outputs": [
    {
     "name": "stdout",
     "output_type": "stream",
     "text": [
      "35819520 samples in 139920 batches\n"
     ]
    }
   ],
   "source": [
    "print(\"{} samples in {} batches\".format(len(transformed_samples),len(custom_dataloader)))"
   ]
  },
  {
   "cell_type": "markdown",
   "metadata": {},
   "source": [
    "### Check dataloader output ###"
   ]
  },
  {
   "cell_type": "code",
   "execution_count": 70,
   "metadata": {},
   "outputs": [
    {
     "name": "stdout",
     "output_type": "stream",
     "text": [
      "0.27 minutes\n"
     ]
    }
   ],
   "source": [
    "startTime = datetime.now()\n",
    "\n",
    "instab=[]\n",
    "subsat=[]\n",
    "prc=[]\n",
    "\n",
    "for i_batch, samples in enumerate(custom_dataloader):\n",
    "#     print(i_batch,samples)\n",
    "    instab.append(samples['instab'].detach().numpy())\n",
    "    subsat.append(samples['subsat'].detach().numpy())\n",
    "    prc.append(samples['prc'].detach().numpy())\n",
    "    \n",
    "    if i_batch==50:\n",
    "        break\n",
    "print(\"{:.2f} minutes\".format((datetime.now() - startTime).total_seconds()/60)) \n",
    "\n"
   ]
  },
  {
   "cell_type": "code",
   "execution_count": 71,
   "metadata": {},
   "outputs": [
    {
     "data": {
      "text/plain": [
       "[<matplotlib.lines.Line2D at 0x7ff4ea55b820>]"
      ]
     },
     "execution_count": 71,
     "metadata": {},
     "output_type": "execute_result"
    },
    {
     "data": {
      "image/png": "[encoded data removed]",
      "text/plain": [
       "<Figure size 432x288 with 1 Axes>"
      ]
     },
     "metadata": {
      "needs_background": "light"
     },
     "output_type": "display_data"
    }
   ],
   "source": [
    "plt.plot(np.concatenate(instab)[:256])"
   ]
  },
  {
   "cell_type": "code",
   "execution_count": 72,
   "metadata": {},
   "outputs": [
    {
     "data": {
      "image/png": "[encoded data removed]",
      "text/plain": [
       "<Figure size 576x180 with 3 Axes>"
      ]
     },
     "metadata": {
      "needs_background": "light"
     },
     "output_type": "display_data"
    }
   ],
   "source": [
    "fig,axx=plt.subplots(1,3,figsize=(8,2.5))\n",
    "\n",
    "ax=axx[0]\n",
    "ax.hist(np.concatenate(instab).flatten())\n",
    "\n",
    "ax=axx[1]\n",
    "ax.hist(np.concatenate(subsat).flatten())\n",
    "\n",
    "ax=axx[2]\n",
    "# ax.hist(np.concatenate(conv_prc)*prc_norm_dict['normalizer'].flatten(),density=True)\n",
    "ax.hist(np.concatenate(prc),density=True)\n",
    "\n",
    "ax.set_yscale('log')\n",
    "ax.set_xlim(right=20)\n",
    "# ax=axx[1,0]\n",
    "# ax.hist(np.concatenate(conv_nn_prc)*prc_norm.flatten())\n",
    "# ax.set_yscale('log')\n",
    "\n",
    "# ax=axx[1,1]\n",
    "# ax.hist(np.concatenate(imerg_prc_tm1)*prc_norm.flatten())\n",
    "# ax.set_yscale('log')\n",
    "\n",
    "plt.tight_layout()"
   ]
  },
  {
   "cell_type": "markdown",
   "metadata": {},
   "source": [
    "### Import model ###"
   ]
  },
  {
   "cell_type": "code",
   "execution_count": 73,
   "metadata": {},
   "outputs": [],
   "source": [
    "import Vae_model #as VAE\n",
    "import sys\n",
    "importlib.reload(Vae_model)"
   ]
  },
  {
   "cell_type": "code",
   "execution_count": 75,
   "metadata": {},
   "outputs": [],
   "source": [
    "LATENT_DIMS=1\n",
    "INPUT_DIMS=3\n",
    "NN_DIMS_ENC=12\n",
    "NN_DIMS_DEC=12\n",
    "\n",
    "model=Vae_model.CVAE_ORG_mod(LATENT_DIMS,INPUT_DIMS,\n",
    "                                             NN_DIMS_ENC,NN_DIMS_DEC).to(device)\n",
    "optimizer = torch.optim.Adam(model.parameters(),\n",
    "                             lr=1e-4,\n",
    "                            weight_decay=1e-3)"
   ]
  },
  {
   "cell_type": "markdown",
   "metadata": {},
   "source": [
    "### Test"
   ]
  },
  {
   "cell_type": "code",
   "execution_count": 76,
   "metadata": {},
   "outputs": [
    {
     "name": "stdout",
     "output_type": "stream",
     "text": [
      "total number of parameters: 365\n"
     ]
    }
   ],
   "source": [
    "from operator import mul\n",
    "from functools import reduce # python3 compatibility\n",
    "\n",
    "network_size=0\n",
    "for params in model.parameters():\n",
    "    network_size+=reduce(mul, params.size(), 1)\n",
    "print('total number of parameters: {:d}'.format(network_size))"
   ]
  },
  {
   "cell_type": "code",
   "execution_count": 77,
   "metadata": {
    "scrolled": false
   },
   "outputs": [
    {
     "name": "stdout",
     "output_type": "stream",
     "text": [
      "dict_keys(['instab', 'subsat', 'prc'])\n",
      "zmax: 3.00\n",
      "shape: 9.76e-01, scale: 1.17e+00\n",
      "mean: 1.14\n",
      "variance: 1.32\n",
      "rain prob.: 0.61\n",
      "------------------------\n",
      "zmin: -3.00\n",
      "shape: 8.11e-01, scale: 2.46e+00\n",
      "mean: 2.00\n",
      "variance: 4.92\n",
      "rain prob.: 0.30\n",
      "=========================\n"
     ]
    }
   ],
   "source": [
    "for i_batch, sample_batched in enumerate(custom_dataloader):\n",
    "    \n",
    "    print(sample_batched.keys())\n",
    "    \n",
    "    data=torch.stack((sample_batched['instab'],\n",
    "                      sample_batched['subsat'],\n",
    "                      sample_batched['prc']),dim=1).unsqueeze(2)\n",
    "    \n",
    "    optimizer.zero_grad()\n",
    "    outputs=model(data)\n",
    "    kl_loss, binary_loss, gamma_loss, gaussian_loss, gamma_nll_1\\\n",
    "    , gamma_nll_2, gamma_nll_3, gamma_nll_4  =model.vae_loss(outputs,0)\n",
    "\n",
    "    syn_size=1_000_000\n",
    "    z=torch.normal(mean=0.,std=1.,\n",
    "                                size=(syn_size,LATENT_DIMS))\n",
    "    \n",
    "    input_tensor=torch.cat((torch.tensor([1.0]).unsqueeze(1),\n",
    "                        torch.tensor([-1]).unsqueeze(1)),axis=1)    \n",
    "    \n",
    "    VAE_models_CVAE_one_endec.print_params(z,model,input_tensor)\n",
    "\n",
    "    break"
   ]
  },
  {
   "cell_type": "markdown",
   "metadata": {},
   "source": [
    "### Train"
   ]
  },
  {
   "cell_type": "code",
   "execution_count": 78,
   "metadata": {},
   "outputs": [],
   "source": [
    "ALPHA_W=0.75"
   ]
  },
  {
   "cell_type": "code",
   "execution_count": 79,
   "metadata": {},
   "outputs": [],
   "source": [
    "EPOCHS = 50\n",
    "wandb.finish()"
   ]
  },
  {
   "cell_type": "code",
   "execution_count": 80,
   "metadata": {
    "scrolled": true
   },
   "outputs": [
    {
     "data": {
      "text/html": [
       "wandb version 0.15.3 is available!  To upgrade, please run:\n",
       " $ pip install wandb --upgrade"
      ],
      "text/plain": [
       "<IPython.core.display.HTML object>"
      ]
     },
     "metadata": {},
     "output_type": "display_data"
    },
    {
     "data": {
      "text/html": [
       "Tracking run with wandb version 0.15.2"
      ],
      "text/plain": [
       "<IPython.core.display.HTML object>"
      ]
     },
     "metadata": {},
     "output_type": "display_data"
    },
    {
     "data": {
      "text/html": [
       "Run data is saved locally in <code>/home/fiaz/ML/vae/Exploring_latents/wandb/run-20230601_150345-sx4w3trl</code>"
      ],
      "text/plain": [
       "<IPython.core.display.HTML object>"
      ]
     },
     "metadata": {},
     "output_type": "display_data"
    },
    {
     "data": {
      "text/html": [
       "Syncing run <strong><a href='https://wandb.ai/fahmed/precip-VAE/runs/sx4w3trl' target=\"_blank\">confused-waterfall-165</a></strong> to <a href='https://wandb.ai/fahmed/precip-VAE' target=\"_blank\">Weights & Biases</a> (<a href='https://wandb.me/run' target=\"_blank\">docs</a>)<br/>"
      ],
      "text/plain": [
       "<IPython.core.display.HTML object>"
      ]
     },
     "metadata": {},
     "output_type": "display_data"
    },
    {
     "data": {
      "text/html": [
       " View project at <a href='https://wandb.ai/fahmed/precip-VAE' target=\"_blank\">https://wandb.ai/fahmed/precip-VAE</a>"
      ],
      "text/plain": [
       "<IPython.core.display.HTML object>"
      ]
     },
     "metadata": {},
     "output_type": "display_data"
    },
    {
     "data": {
      "text/html": [
       " View run at <a href='https://wandb.ai/fahmed/precip-VAE/runs/sx4w3trl' target=\"_blank\">https://wandb.ai/fahmed/precip-VAE/runs/sx4w3trl</a>"
      ],
      "text/plain": [
       "<IPython.core.display.HTML object>"
      ]
     },
     "metadata": {},
     "output_type": "display_data"
    },
    {
     "data": {
      "text/html": [
       "<button onClick=\"this.nextSibling.style.display='block';this.style.display='none';\">Display W&B run</button><iframe src='https://wandb.ai/fahmed/precip-VAE/runs/sx4w3trl?jupyter=true' style='border:none;width:100%;height:420px;display:none;'></iframe>"
      ],
      "text/plain": [
       "<wandb.sdk.wandb_run.Run at 0x7ff4ea302e80>"
      ]
     },
     "execution_count": 80,
     "metadata": {},
     "output_type": "execute_result"
    }
   ],
   "source": [
    "# start a new wandb run to track this script\n",
    "wandb.init(\n",
    "    # set the wandb project where this run will be logged\n",
    "    project=\"precip-VAE\",\n",
    "    # track hyperparameters and run metadata\n",
    "    config={\n",
    "    \"learning_rate\": optimizer.param_groups[0]['lr'],\n",
    "    \"architecture\": \"VAE\",\n",
    "    \"dataset\": \"GPM/ERA5\",\n",
    "    \"epochs\": EPOCHS,\n",
    "    \"batch size\":BATCH_SIZE,\n",
    "    \"NN DIMD\": NN_DIMS_DEC,\n",
    "    \"NN_DIME\": NN_DIMS_ENC,\n",
    "    \"Latent DIM\": LATENT_DIMS,\n",
    "    \"Predictor\": \"lrh\",\n",
    "    \"alpha_w\":ALPHA_W,\n",
    "    }\n",
    ")"
   ]
  },
  {
   "cell_type": "code",
   "execution_count": null,
   "metadata": {
    "scrolled": true
   },
   "outputs": [
    {
     "name": "stdout",
     "output_type": "stream",
     "text": [
      "Random seed set as 0\n",
      "EPOCH 1:\n",
      "batch 5000\n",
      "max gradient:\n",
      "log alpha: 2.35e-01\n",
      "log mu: 8.05e-01\n",
      "zmax: 3.00\n",
      "shape: 5.12e-01, scale: 3.39e+00\n",
      "mean: 1.74\n",
      "variance: 5.89\n",
      "rain prob.: 0.49\n",
      "------------------------\n",
      "zmin: -3.00\n",
      "shape: 1.67e-01, scale: 3.55e-01\n",
      "mean: 0.06\n",
      "variance: 0.02\n",
      "rain prob.: 0.18\n",
      "=========================\n",
      "gamma nll:\n",
      "0.30494827 -4.3904576 1.1332061 -0.07822976 -3.0305328\n",
      "-3.0305328\n",
      "gaussian nll:\n",
      "0.748247\n",
      "------------------------------\n",
      "batch 10000\n",
      "max gradient:\n",
      "log alpha: 8.78e-02\n",
      "log mu: 5.27e-01\n",
      "zmax: 3.00\n",
      "shape: 3.02e+00, scale: 1.01e+00\n",
      "mean: 3.06\n",
      "variance: 3.09\n",
      "rain prob.: 0.92\n",
      "------------------------\n",
      "zmin: -3.00\n",
      "shape: 2.07e-01, scale: 2.36e-01\n",
      "mean: 0.05\n",
      "variance: 0.01\n",
      "rain prob.: 0.21\n",
      "=========================\n",
      "gamma nll:\n",
      "0.60026187 -2.5461566 0.9115058 -0.45293823 -1.4873271\n",
      "-1.4873275\n",
      "gaussian nll:\n",
      "0.06370945\n",
      "------------------------------\n",
      "batch 15000\n",
      "max gradient:\n",
      "log alpha: 7.77e-02\n",
      "log mu: 1.65e-01\n",
      "zmax: 3.00\n",
      "shape: 9.83e+00, scale: 3.16e-01\n",
      "mean: 3.10\n",
      "variance: 0.98\n",
      "rain prob.: 0.99\n",
      "------------------------\n",
      "zmin: -3.00\n",
      "shape: 2.18e-01, scale: 1.48e-01\n",
      "mean: 0.03\n",
      "variance: 0.00\n",
      "rain prob.: 0.17\n",
      "=========================\n",
      "gamma nll:\n",
      "1.0840193 -1.9901155 0.9091082 -1.5644273 -1.5614152\n",
      "-1.5614153\n",
      "gaussian nll:\n",
      "0.015237464\n",
      "------------------------------\n",
      "batch 20000\n",
      "max gradient:\n",
      "log alpha: 1.61e-01\n",
      "log mu: 2.99e-01\n",
      "zmax: 3.00\n",
      "shape: 1.54e+01, scale: 1.91e-01\n",
      "mean: 2.95\n",
      "variance: 0.56\n",
      "rain prob.: 1.00\n",
      "------------------------\n",
      "zmin: -3.00\n",
      "shape: 1.83e-01, scale: 9.98e-02\n",
      "mean: 0.02\n",
      "variance: 0.00\n",
      "rain prob.: 0.10\n",
      "=========================\n",
      "gamma nll:\n",
      "1.3664004 -2.7036903 2.355899 -3.4217365 -2.4031272\n",
      "-2.4031277\n",
      "gaussian nll:\n",
      "0.017670875\n",
      "------------------------------\n",
      "batch 25000\n",
      "max gradient:\n",
      "log alpha: 5.20e-02\n",
      "log mu: 2.21e-01\n",
      "zmax: 3.00\n",
      "shape: 3.27e+01, scale: 8.94e-02\n",
      "mean: 2.92\n",
      "variance: 0.26\n",
      "rain prob.: 1.00\n",
      "------------------------\n",
      "zmin: -3.00\n",
      "shape: 1.02e-01, scale: 6.45e-02\n",
      "mean: 0.01\n",
      "variance: 0.00\n",
      "rain prob.: 0.03\n",
      "=========================\n",
      "gamma nll:\n",
      "9.318095 -8.887269 24.940353 -27.197086 -1.8259068\n",
      "-1.8259056\n",
      "gaussian nll:\n",
      "0.029891685\n",
      "------------------------------\n",
      "batch 30000\n",
      "max gradient:\n",
      "log alpha: 1.32e-01\n",
      "log mu: 5.33e-01\n",
      "zmax: 3.00\n",
      "shape: 5.68e+01, scale: 4.95e-02\n",
      "mean: 2.81\n",
      "variance: 0.14\n",
      "rain prob.: 1.00\n",
      "------------------------\n",
      "zmin: -3.00\n",
      "shape: 4.96e-02, scale: 5.65e-02\n",
      "mean: 0.00\n",
      "variance: 0.00\n",
      "rain prob.: 0.01\n",
      "=========================\n",
      "gamma nll:\n",
      "19.293163 -10.282714 60.423676 -72.71886 -3.284729\n",
      "-3.2847333\n",
      "gaussian nll:\n",
      "0.005401508\n",
      "------------------------------\n"
     ]
    }
   ],
   "source": [
    "startTime1 = datetime.now()\n",
    "SAVE_MODEL=True\n",
    "MODEL_NAME_STR='cvae_tr2_imerg_era5_gamma_gauss_alpha_w={}'.format(ALPHA_W)\n",
    "\n",
    "fig,axx=plt.subplots(1,1,figsize=(6,4))\n",
    "ax=axx\n",
    "losses={'elbo':[],'gamma':[], \n",
    "        'gauss':[],'binary':[], 'kl':[]}\n",
    "\n",
    "set_seed()\n",
    "epoch_number = 0\n",
    "best_vloss = 1_000_000.\n",
    "\n",
    "syn_size=1_000_000\n",
    "z=torch.normal(mean=0.,std=1.,\n",
    "                            size=(syn_size,LATENT_DIMS))\n",
    "\n",
    "input_thermo_tensor=torch.cat((torch.tensor([1.0]).unsqueeze(1),\n",
    "                    torch.tensor([-1]).unsqueeze(1)),axis=1)    \n",
    "\n",
    "\n",
    "for epoch in range(EPOCHS):\n",
    "    startTime2 = datetime.now()\n",
    "    print('EPOCH {}:'.format(epoch_number + 1))\n",
    "\n",
    "    # Make sure gradient tracking is on, and do a pass over the data\n",
    "    model.train(True)\n",
    "    mean_ELBO, mean_gamma_loss, mean_gaussian_loss, mean_KL_loss, mean_binary_loss\\\n",
    "    = Vae_model.train_one_epoch(epoch_number,custom_dataloader,model,\n",
    "                                                optimizer,ALPHA_W)\n",
    "    \n",
    "    losses['elbo'].append(mean_ELBO)\n",
    "    losses['gamma'].append(mean_gamma_loss)\n",
    "    losses['gauss'].append(mean_gaussian_loss)\n",
    "    losses['binary'].append(mean_binary_loss)\n",
    "    losses['kl'].append(mean_KL_loss)\n",
    "    \n",
    "    # We don't need gradients on to do reporting\n",
    "    model.train(False)\n",
    "    \n",
    "    Vae_model.print_params(z,model,input_thermo_tensor)\n",
    "\n",
    "    ax.scatter(epoch,mean_ELBO,color='black')\n",
    "    ax.scatter(epoch,mean_gamma_loss,color='red')\n",
    "    ax.scatter(epoch,mean_KL_loss,color='blue')\n",
    "    ax.scatter(epoch,mean_binary_loss,color='orange')\n",
    "    \n",
    "    epoch_number += 1\n",
    "    print(\"Time for epoch: {:.2f} minutes\".format((datetime.now() - startTime2).total_seconds()/60))\n",
    "        \n",
    "    wandb.log({\"ELBO\": mean_ELBO, \"gamma loss\": mean_gamma_loss,\n",
    "               \"gaussian loss\":mean_gaussian_loss,\n",
    "              \"binary loss\": mean_binary_loss, \"KL loss\": mean_KL_loss})\n",
    "\n",
    "    if SAVE_MODEL:\n",
    "        dir_name='/home/fiaz/ML/vae/models/'\n",
    "\n",
    "        model_name_prev=MODEL_NAME_STR+'_{}_epochs.pth'.format(epoch_number-1)\n",
    "        model_name=MODEL_NAME_STR+'_{}_epochs.pth'.format(epoch_number)\n",
    "\n",
    "        if epoch_number>1:\n",
    "            os.remove(dir_name+model_name_prev)\n",
    "        torch.save(model.state_dict(), dir_name+model_name)\n",
    "        print('Model saved as {}'.format(dir_name+model_name))\n",
    "        \n",
    "print(\"Total time: {:.2f} minutes\".format((datetime.now() - startTime1).total_seconds()/60))\n",
    "\n",
    "wandb.finish()"
   ]
  },
  {
   "cell_type": "markdown",
   "metadata": {},
   "source": [
    "## Small scale parameters suggest small tails. "
   ]
  },
  {
   "cell_type": "markdown",
   "metadata": {},
   "source": [
    "### Diagnose"
   ]
  },
  {
   "cell_type": "code",
   "execution_count": null,
   "metadata": {},
   "outputs": [],
   "source": [
    "# dst='/home/fiaz/ML/vae/models/cvae_gamma_conv_rain_singleED_50_epochs.pth'\n",
    "# dst='/home/fiaz/ML/vae/models/cvae_gamma_conv_rain_singleED_NN=4_LD=1_48_epochs.pth'\n",
    "# dst='/home/fiaz/ML/vae/models/cvae_gamma_conv_rain_singleED_NN=4_LD=2_7_epochs.pth'\n",
    "# model.load_state_dict(torch.load(dst))\n",
    "Vae_model.print_params(z,model,torch.tensor([0.8]))\n",
    "\n"
   ]
  },
  {
   "cell_type": "code",
   "execution_count": null,
   "metadata": {},
   "outputs": [],
   "source": [
    "pcp_bins=2**(np.arange(-2.,8.125,0.125))\n",
    "pcp_bins=np.insert(pcp_bins,0,1e-3)\n",
    "pcp_bin_center=(pcp_bins[1:]+pcp_bins[:-1])*0.5\n",
    "dx=np.diff(pcp_bins)"
   ]
  },
  {
   "cell_type": "code",
   "execution_count": null,
   "metadata": {},
   "outputs": [],
   "source": [
    "import matplotlib\n",
    "colors_norm1 = matplotlib.colors.Normalize(vmin=0, vmax=1.)\n",
    "cmap = plt.get_cmap('YlOrRd')\n",
    "col = matplotlib.cm.ScalarMappable(norm=colors_norm1, cmap=cmap)\n",
    "\n",
    "colors_norm = matplotlib.colors.Normalize(vmin=-3, vmax=3.)\n",
    "colz = matplotlib.cm.ScalarMappable(norm=colors_norm, cmap=cmap)"
   ]
  },
  {
   "cell_type": "code",
   "execution_count": null,
   "metadata": {},
   "outputs": [],
   "source": [
    "syn_size=1_000_00\n",
    "synthetic_input=torch.normal(mean=0.,std=1.,\n",
    "                            size=(syn_size,LATENT_DIMS))\n",
    "\n",
    "\n",
    "fig,axx=plt.subplots(2,2,figsize=(8.,5.))\n",
    "\n",
    "for i in np.arange(0,0.95,.05)[::4]: \n",
    "    print(i)\n",
    "#     synthetic_input[:,0]=3\n",
    "    synthetic_input[:]=4.\n",
    "\n",
    "    crh_cond=torch.ones([syn_size,1])\n",
    "    crh_cond[:]=i\n",
    "    \n",
    "    log_alpha,log_beta, prob=model.decoder(synthetic_input,crh_cond)\n",
    "    m1=torch.distributions.Gamma(log_alpha.exp(),log_beta.exp())\n",
    "    m2=torch.distributions.Bernoulli(prob)\n",
    "    \n",
    "    prc_array= (m2.sample()*m1.sample()*prc_std).numpy().squeeze()\n",
    "    \n",
    "    prc_hist=np.histogram(prc_array,bins=pcp_bins)[0]\n",
    "    prc_hist=prc_hist/(dx*prc_hist.sum())\n",
    "    \n",
    "    axx[0,0].scatter(pcp_bin_center,prc_hist,color=col.to_rgba(i))\n",
    "    axx[0,1].hist(prob.detach().numpy().squeeze(),color=col.to_rgba(i))\n",
    "    \n",
    "#     if i==.5:\n",
    "#         break\n",
    "    \n",
    "    \n",
    "for i in np.arange(-3,3.2,0.2):\n",
    "    \n",
    "#     synthetic_input[:,0]=i\n",
    "    synthetic_input[:]=i\n",
    "\n",
    "    crh_cond=torch.ones([syn_size,1])\n",
    "    crh_cond[:]=0.8\n",
    "    \n",
    "    log_alpha, log_beta, prob=model.decoder(synthetic_input,crh_cond)\n",
    "    m1=torch.distributions.Gamma(log_alpha.exp(),log_beta.exp())\n",
    "    m2=torch.distributions.Bernoulli(prob)\n",
    "    \n",
    "    prc_array= (m2.sample()*m1.sample()*prc_norm).numpy().squeeze()\n",
    "    \n",
    "    prc_hist=np.histogram(prc_array,bins=pcp_bins)[0]\n",
    "    prc_hist=prc_hist/(dx*prc_hist.sum())\n",
    "    \n",
    "    axx[1,0].scatter(pcp_bin_center,prc_hist,color=colz.to_rgba(i))\n",
    "    axx[1,1].hist(prob.detach().numpy().squeeze(),color=colz.to_rgba(i))\n",
    "    \n",
    "    \n",
    "axx[0,0].set_yscale('log')\n",
    "axx[1,0].set_yscale('log')\n",
    "axx[0,0].set_xlim(0,250)\n",
    "axx[1,0].set_xlim(0,250)\n",
    "\n",
    "for ax in axx[0]:\n",
    "    ax.tick_params(which='both',labelsize=13)\n",
    "\n",
    "for ax in axx[1]:\n",
    "    ax.tick_params(which='both',labelsize=13)\n",
    "\n",
    "# axx[0,1].set_xlabel('Shape',fontsize=13)\n",
    "# axx[1,1].set_xlabel('Scale',fontsize=13)\n",
    "    \n",
    "plt.tight_layout()"
   ]
  }
 ],
 "metadata": {
  "kernelspec": {
   "display_name": "ML",
   "language": "python",
   "name": "ml"
  },
  "language_info": {
   "codemirror_mode": {
    "name": "ipython",
    "version": 3
   },
   "file_extension": ".py",
   "mimetype": "text/x-python",
   "name": "python",
   "nbconvert_exporter": "python",
   "pygments_lexer": "ipython3",
   "version": "3.9.15"
  }
 },
 "nbformat": 4,
 "nbformat_minor": 2
}
